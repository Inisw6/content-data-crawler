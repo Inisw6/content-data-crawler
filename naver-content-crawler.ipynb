{
 "cells": [
  {
   "cell_type": "code",
   "execution_count": 1,
   "id": "d9756704",
   "metadata": {},
   "outputs": [],
   "source": [
    "import os\n",
    "import requests\n",
    "from bs4 import BeautifulSoup"
   ]
  },
  {
   "cell_type": "code",
   "execution_count": 2,
   "id": "4f198ef8",
   "metadata": {},
   "outputs": [],
   "source": [
    "def clean_naver_blog_url(blog_url):\n",
    "    \"\"\"\n",
    "    네이버 블로그는 외부 링크를 통해 redirect 되는 경우가 많음.\n",
    "    원래 포스트 url을 iframe으로 추적하는 구조로 구성되어 있음.\n",
    "    \"\"\"\n",
    "    if \"blog.naver.com\" in blog_url:\n",
    "        return blog_url\n",
    "    else:\n",
    "        # 통합 검색 결과 redirect 우회\n",
    "        res = requests.get(blog_url, allow_redirects=True)\n",
    "        return res.url\n",
    "\n",
    "def fetch_blog_content(blog_url):\n",
    "    cleaned_url = clean_naver_blog_url(blog_url)\n",
    "    res = requests.get(cleaned_url)\n",
    "    soup = BeautifulSoup(res.text, \"html.parser\")\n",
    "\n",
    "    # 네이버 블로그 구조: iframe 안에 실제 콘텐츠 존재\n",
    "    iframe = soup.find(\"iframe\", {\"id\": \"mainFrame\"})\n",
    "    if iframe and \"src\" in iframe.attrs:\n",
    "        iframe_url = \"https://blog.naver.com\" + iframe[\"src\"]\n",
    "        iframe_res = requests.get(iframe_url)\n",
    "        iframe_soup = BeautifulSoup(iframe_res.text, \"html.parser\")\n",
    "\n",
    "        # 본문 텍스트 추출\n",
    "        content_div = iframe_soup.find(\"div\", {\"class\": \"se-main-container\"})\n",
    "        if content_div:\n",
    "            return content_div.get_text(strip=True)\n",
    "        else:\n",
    "            return \"[본문 추출 실패: 구조 다름]\"\n",
    "    else:\n",
    "        return \"[본문 없음 또는 iframe 구조 아님]\""
   ]
  },
  {
   "cell_type": "code",
   "execution_count": 3,
   "id": "5d4ec5e2",
   "metadata": {},
   "outputs": [
    {
     "name": "stdout",
     "output_type": "stream",
     "text": [
      "제목: <b>삼성전자</b>, 세계 각지서 '삼성 비전 AI' 옥외광고 선봬\n",
      "URL: https://n.news.naver.com/mnews/article/003/0013235130?sid=101\n",
      "본문: 올해 말까지 뉴욕·런던 등서 옥외광고[서울=뉴시스]미국 뉴욕 타임스 스퀘어에서 진행하는 '삼성 비전 AI(Vision AI)' 옥외광고 모습. (사진=삼성전자 제공) 2025.05.12. photo@newsis.com *재판매 및 DB 금지[서울=뉴시스]이지용 기자 = 삼성전자가 글로벌 주요 랜드마크에서 '삼성 비전 AI' 옥외광고를 선보인다.삼성전자는 미국 뉴욕 타임스 스퀘어, 영국 런던 피카딜리 광장, 중국 상해 홍이 인터내셔널 플라자 등에서 삼성 비전 AI 옥외광고를 올해 말까지 진행한다고 12일 밝혔다.삼성 비전 AI는 사용 ...\n",
      "================================================================================\n",
      "제목: <b>삼성전자</b>, 전 세계 랜드마크서 '삼성 비전 AI' 옥외광고\n",
      "URL: https://n.news.naver.com/mnews/article/001/0015381699?sid=101\n",
      "본문: 삼성전자 '비전 AI' 옥외광고(서울=연합뉴스) 삼성전자가 영국 런던 피카딜리 광장에서 진행하는 '삼성 비전 AI(Vision AI)' 옥외광고 모습. 2025.5.12 [삼성전자 제공. 재판매 및 DB 금지](서울=연합뉴스) 강태우 기자 = 삼성전자가 글로벌 주요 랜드마크에서 '삼성 비전 AI'(Vision AI) 옥외광고를 통해 'AI TV=삼성' 입지를 굳히고 있다.삼성전자는 미국 뉴욕 타임스 스퀘어, 영국 런던 피카딜리 광장, 중국 상해 홍이 인터내셔널 플라자 등에서 올해 말까지 삼성 비전 AI 옥외광고를 진행한다고 12일  ...\n",
      "================================================================================\n",
      "제목: <b>삼성전자</b>-TSMC 반도체 매출 10조 이상 벌어져\n",
      "URL: https://n.news.naver.com/mnews/article/374/0000439834?sid=101\n",
      "본문: 삼성전자와 대만 TSMC의 올해 1분기 반도체 매출 격차가 더 크게 벌어진 것으로 집계됐습니다.업계에 따르면 1분기 삼성전자의 반도체 매출은  25조1천억원으로, 전분기 대비 17% 감소했습니다.반면, TSMC의 1분기 매출은 지난해 같은 기간보다 42% 급증한 8천393억5천만 대만달러, 우리돈 약 37조원에 달했습니다.최근 환율 변동을 고려해도 두 기업의 매출 격차는 10조원이 넘습니다.당신의 제보가 뉴스로 만들어집니다.SBS Biz는 여러분의 제보를 기다리고 있습니다.홈페이지 = https://url.kr/9pghjn ...\n",
      "================================================================================\n",
      "제목: <b>삼성전자</b>, 글로벌 랜드마크서 '삼성 비전 AI' 옥외광고\n",
      "URL: https://n.news.naver.com/mnews/article/008/0005192763?sid=101\n",
      "본문: 삼성전자가 영국 런던 피카딜리 광장에서 진행하는 '삼성 비전 AI(Vision AI)' 옥외광고 모습 /사진제공=삼성전자삼성전자가 12일 글로벌 주요 랜드마크에서 '삼성 비전 AI(Vision AI)' 옥외광고를 올해 말까지 진행한다고 밝혔다. 삼성 '비전 AI' 옥외광고는 미국 뉴욕 타임스 스퀘어와 영국 런던 피카딜리 광장, 중국 상해 홍이 인터내셔널 플라자 등에서 선보인다.삼성전자는 글로벌 주요 거점에 삼성 '비전 AI' 옥외광고를 집행해 소비자 접점을 확대하고 있다. 광고를 통해 삼성 TV의 주요 AI 기능인 △클릭 투 서치  ...\n",
      "================================================================================\n",
      "제목: [기업] <b>삼성전자</b>, 뉴욕·런던 등 주요 랜드마크 '비전 AI' 옥외광고\n",
      "URL: https://n.news.naver.com/mnews/article/052/0002191960?sid=101\n",
      "본문: 삼성전자가 올해 말까지 세계 주요 랜드마크에서 '비전 AI' 옥외광고를 선보입니다.삼성전자는 뉴욕 타임스스퀘어와 런던 피카딜리 서커스 등 주요 랜드마크 전광판 광고를 통해 소비자와의 접점을 확대할 계획이라고 밝혔습니다.또 이번에 선보인 옥외광고가 사용자의 일상을 쉽고 편리하게 도와주는 삼성 AI TV의 기능을 소개하고 있다고 설명했습니다.※ '당신의 제보가 뉴스가 됩니다'[카카오톡] YTN 검색해 채널 추가[전화] 02-398-8585[메일] social@ytn.co.kr ...\n",
      "================================================================================\n"
     ]
    }
   ],
   "source": [
    "import os\n",
    "import requests\n",
    "from bs4 import BeautifulSoup\n",
    "from urllib.parse import quote\n",
    "from dotenv import load_dotenv\n",
    "\n",
    "load_dotenv()\n",
    "NAVER_CLIENT_ID = os.getenv(\"NAVER_CLIENT_ID\")\n",
    "NAVER_CLIENT_SECRET = os.getenv(\"NAVER_CLIENT_SECRET\")\n",
    "\n",
    "def search_news(query, display=5):\n",
    "    url = \"https://openapi.naver.com/v1/search/news.json\"\n",
    "    headers = {\n",
    "        \"X-Naver-Client-Id\": NAVER_CLIENT_ID,\n",
    "        \"X-Naver-Client-Secret\": NAVER_CLIENT_SECRET\n",
    "    }\n",
    "    params = {\n",
    "        \"query\": query,\n",
    "        \"display\": display,\n",
    "        \"start\": 1,\n",
    "        \"sort\": \"sim\"\n",
    "    }\n",
    "\n",
    "    res = requests.get(url, headers=headers, params=params)\n",
    "    res.raise_for_status()\n",
    "    return res.json()[\"items\"]\n",
    "\n",
    "def clean_news_url(url):\n",
    "    \"\"\"\n",
    "    외부 프록시/리다이렉트 URL 제거\n",
    "    \"\"\"\n",
    "    if \"n.news.naver.com\" in url:\n",
    "        return url\n",
    "    try:\n",
    "        res = requests.get(url, allow_redirects=True, timeout=5)\n",
    "        return res.url\n",
    "    except:\n",
    "        return url\n",
    "\n",
    "def fetch_news_content(news_url):\n",
    "    clean_url = clean_news_url(news_url)\n",
    "    res = requests.get(clean_url, headers={\"User-Agent\": \"Mozilla/5.0\"})\n",
    "    soup = BeautifulSoup(res.text, \"html.parser\")\n",
    "\n",
    "    # 본문 영역 클래스 (일반 뉴스/연예/스포츠 모두 다름)\n",
    "    candidates = [\n",
    "        {\"id\": \"dic_area\"},                             # 일반 기사\n",
    "        {\"id\": \"articeBody\"},                           # 스포츠/연예\n",
    "        {\"class_\": \"newsct_article\"},                   # 모바일 버전\n",
    "        {\"class_\": \"article_body\"},                     # 예외적 케이스\n",
    "    ]\n",
    "\n",
    "    for c in candidates:\n",
    "        content = soup.find(\"div\", **c)\n",
    "        if content:\n",
    "            return content.get_text(strip=True)\n",
    "\n",
    "    return \"[본문 추출 실패]\"\n",
    "\n",
    "# 실행 예제\n",
    "if __name__ == \"__main__\":\n",
    "    query = \"삼성전자\"\n",
    "    items = search_news(query)\n",
    "\n",
    "    for item in items:\n",
    "        print(\"제목:\", item[\"title\"])\n",
    "        print(\"URL:\", item[\"link\"])\n",
    "        content = fetch_news_content(item[\"link\"])\n",
    "        print(\"본문:\", content[:300], \"...\")\n",
    "        print(\"=\" * 80)\n"
   ]
  },
  {
   "cell_type": "code",
   "execution_count": 4,
   "id": "8c20fedd",
   "metadata": {},
   "outputs": [
    {
     "data": {
      "text/plain": [
       "{'title': \"[기업] <b>삼성전자</b>, 뉴욕·런던 등 주요 랜드마크 '비전 AI' 옥외광고\",\n",
       " 'originallink': 'https://www.ytn.co.kr/_ln/0102_202505121553251219',\n",
       " 'link': 'https://n.news.naver.com/mnews/article/052/0002191960?sid=101',\n",
       " 'description': \"<b>삼성전자</b>가 올해 말까지 세계 주요 랜드마크에서 '비전 AI' 옥외광고를 선보입니다. <b>삼성전자</b>는 뉴욕 타임스스퀘어와 런던 피카딜리 서커스 등 주요 랜드마크 전광판 광고를 통해 소비자와의 접점을 확대할 계획이라고... \",\n",
       " 'pubDate': 'Mon, 12 May 2025 15:53:00 +0900'}"
      ]
     },
     "execution_count": 4,
     "metadata": {},
     "output_type": "execute_result"
    }
   ],
   "source": [
    "item"
   ]
  },
  {
   "cell_type": "code",
   "execution_count": null,
   "id": "bdd36d3f",
   "metadata": {},
   "outputs": [],
   "source": []
  }
 ],
 "metadata": {
  "kernelspec": {
   "display_name": ".venv",
   "language": "python",
   "name": "python3"
  },
  "language_info": {
   "codemirror_mode": {
    "name": "ipython",
    "version": 3
   },
   "file_extension": ".py",
   "mimetype": "text/x-python",
   "name": "python",
   "nbconvert_exporter": "python",
   "pygments_lexer": "ipython3",
   "version": "3.12.3"
  }
 },
 "nbformat": 4,
 "nbformat_minor": 5
}
