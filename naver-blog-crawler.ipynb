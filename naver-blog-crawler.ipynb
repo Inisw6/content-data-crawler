{
 "cells": [
  {
   "cell_type": "code",
   "execution_count": 2,
   "id": "e555e959",
   "metadata": {},
   "outputs": [],
   "source": [
    "import os\n",
    "import time\n",
    "import json\n",
    "import requests\n",
    "from datetime import datetime\n",
    "from dotenv import load_dotenv\n",
    "from typing import List, Dict\n",
    "\n",
    "load_dotenv()\n",
    "NAVER_CLIENT_ID = os.getenv(\"NAVER_CLIENT_ID\")\n",
    "NAVER_CLIENT_SECRET = os.getenv(\"NAVER_CLIENT_SECRET\")\n",
    "\n",
    "headers = {\n",
    "    \"X-Naver-Client-Id\": NAVER_CLIENT_ID,\n",
    "    \"X-Naver-Client-Secret\": NAVER_CLIENT_SECRET\n",
    "}\n",
    "\n",
    "def fetch_naver_blog(keyword: str, display: int = 50) -> List[Dict]:\n",
    "    url = \"https://openapi.naver.com/v1/search/blog.json\"\n",
    "    params = {\n",
    "        \"query\": keyword,\n",
    "        \"display\": display,\n",
    "        \"start\": 1,\n",
    "        \"sort\": \"sim\"\n",
    "    }\n",
    "\n",
    "    response = requests.get(url, headers=headers, params=params)\n",
    "    response.raise_for_status()\n",
    "    items = response.json().get(\"items\", [])\n",
    "\n",
    "    result = []\n",
    "    for item in items:\n",
    "        result.append({\n",
    "            \"type\": \"blog\",\n",
    "            \"title\": item.get(\"title\"),\n",
    "            \"url\": item.get(\"link\"),\n",
    "            \"keyword\": keyword,\n",
    "            \"summary\": item.get(\"description\"),\n",
    "            \"image_url\": None,\n",
    "            \"published_at\": datetime.strptime(item[\"postdate\"], \"%Y%m%d\").isoformat() if \"postdate\" in item else None,\n",
    "            \"created_at\": datetime.now().isoformat(),\n",
    "            \"author\": item.get(\"bloggername\"),\n",
    "            \"sentiment_score\": None,\n",
    "            \"word_count\": None\n",
    "        })\n",
    "\n",
    "    return result"
   ]
  },
  {
   "cell_type": "code",
   "execution_count": 3,
   "id": "025b4ae7",
   "metadata": {},
   "outputs": [
    {
     "ename": "NameError",
     "evalue": "name 'output_path' is not defined",
     "output_type": "error",
     "traceback": [
      "\u001b[31m---------------------------------------------------------------------------\u001b[39m",
      "\u001b[31mNameError\u001b[39m                                 Traceback (most recent call last)",
      "\u001b[36mCell\u001b[39m\u001b[36m \u001b[39m\u001b[32mIn[3]\u001b[39m\u001b[32m, line 25\u001b[39m\n\u001b[32m     22\u001b[39m \u001b[38;5;28;01mwith\u001b[39;00m \u001b[38;5;28mopen\u001b[39m(os.path.join(output_dir, \u001b[33m\"\u001b[39m\u001b[33mnaver_blog_results.json\u001b[39m\u001b[33m\"\u001b[39m), \u001b[33m\"\u001b[39m\u001b[33mw\u001b[39m\u001b[33m\"\u001b[39m, encoding=\u001b[33m\"\u001b[39m\u001b[33mutf-8\u001b[39m\u001b[33m\"\u001b[39m) \u001b[38;5;28;01mas\u001b[39;00m f:\n\u001b[32m     23\u001b[39m     json.dump(all_blogs, f, ensure_ascii=\u001b[38;5;28;01mFalse\u001b[39;00m, indent=\u001b[32m2\u001b[39m)\n\u001b[32m---> \u001b[39m\u001b[32m25\u001b[39m \u001b[43moutput_path\u001b[49m\n",
      "\u001b[31mNameError\u001b[39m: name 'output_path' is not defined"
     ]
    }
   ],
   "source": [
    "# 종목 키워드 리스트\n",
    "keywords = [\n",
    "    \"삼성전자\", \"SK하이닉스\", \"네이버\", \"카카오\", \"삼성바이오로직스\",\n",
    "    \"LG화학\", \"현대차\", \"기아\", \"LG에너지솔루션\", \"POSCO홀딩스\",\n",
    "    \"현대모비스\", \"셀트리온\", \"카카오게임즈\", \"크래프톤\", \"HMM\",\n",
    "    \"대한항공\", \"DB하이텍\", \"아모레퍼시픽\", \"롯데쇼핑\", \"CJ ENM\"\n",
    "]\n",
    "\n",
    "# 블로그 수집 및 저장\n",
    "all_blogs = []\n",
    "for kw in keywords:\n",
    "    try:\n",
    "        blogs = fetch_naver_blog(kw, display=50)\n",
    "        all_blogs.extend(blogs)\n",
    "        time.sleep(1)\n",
    "    except Exception as e:\n",
    "        print(f\"Error processing {kw}: {e}\")\n",
    "\n",
    "# 저장\n",
    "output_dir = \"./data\"\n",
    "os.makedirs(output_dir, exist_ok=True)\n",
    "with open(os.path.join(output_dir, \"naver_blog_results.json\"), \"w\", encoding=\"utf-8\") as f:\n",
    "    json.dump(all_blogs, f, ensure_ascii=False, indent=2)\n",
    "\n",
    "output_path"
   ]
  },
  {
   "cell_type": "code",
   "execution_count": null,
   "id": "9d2cdf30",
   "metadata": {},
   "outputs": [],
   "source": []
  }
 ],
 "metadata": {
  "kernelspec": {
   "display_name": ".venv",
   "language": "python",
   "name": "python3"
  },
  "language_info": {
   "codemirror_mode": {
    "name": "ipython",
    "version": 3
   },
   "file_extension": ".py",
   "mimetype": "text/x-python",
   "name": "python",
   "nbconvert_exporter": "python",
   "pygments_lexer": "ipython3",
   "version": "3.12.3"
  }
 },
 "nbformat": 4,
 "nbformat_minor": 5
}
