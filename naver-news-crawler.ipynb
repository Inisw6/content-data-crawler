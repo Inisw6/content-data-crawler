{
 "cells": [
  {
   "cell_type": "code",
   "execution_count": 1,
   "id": "15a393d5",
   "metadata": {},
   "outputs": [],
   "source": [
    "import os\n",
    "import requests\n",
    "from typing import List, Dict\n",
    "from datetime import datetime\n",
    "from dotenv import load_dotenv\n",
    "import json\n",
    "import time\n",
    "\n",
    "load_dotenv()\n",
    "NAVER_CLIENT_ID = os.getenv(\"NAVER_CLIENT_ID\")\n",
    "NAVER_CLIENT_SECRET = os.getenv(\"NAVER_CLIENT_SECRET\")\n",
    "\n",
    "headers = {\n",
    "    \"X-Naver-Client-Id\": NAVER_CLIENT_ID,\n",
    "    \"X-Naver-Client-Secret\": NAVER_CLIENT_SECRET\n",
    "}\n",
    "\n",
    "def fetch_naver_news(keyword: str, display: int = 50) -> List[Dict]:\n",
    "    url = \"https://openapi.naver.com/v1/search/news.json\"\n",
    "    params = {\n",
    "        \"query\": keyword,\n",
    "        \"display\": display,\n",
    "        \"start\": 1,\n",
    "        \"sort\": \"sim\"\n",
    "    }\n",
    "\n",
    "    response = requests.get(url, headers=headers, params=params)\n",
    "    response.raise_for_status()\n",
    "    items = response.json().get(\"items\", [])\n",
    "\n",
    "    result = []\n",
    "    for item in items:\n",
    "        result.append({\n",
    "            \"type\": \"news\",\n",
    "            \"title\": item.get(\"title\"),\n",
    "            \"url\": item.get(\"link\"),\n",
    "            \"keyword\": keyword,\n",
    "            \"summary\": item.get(\"description\"),\n",
    "            \"image_url\": None,\n",
    "            \"published_at\": None,\n",
    "            \"created_at\": datetime.now().isoformat(),\n",
    "            \"press_name\": None,  # Naver API에는 없음\n",
    "            \"is_opinion\": False\n",
    "        })\n",
    "\n",
    "    return result\n"
   ]
  },
  {
   "cell_type": "code",
   "execution_count": null,
   "id": "6e037a12",
   "metadata": {},
   "outputs": [
    {
     "ename": "FileNotFoundError",
     "evalue": "[Errno 2] No such file or directory: '/mnt/data/naver_news_results.json'",
     "output_type": "error",
     "traceback": [
      "\u001b[31m---------------------------------------------------------------------------\u001b[39m",
      "\u001b[31mFileNotFoundError\u001b[39m                         Traceback (most recent call last)",
      "\u001b[36mCell\u001b[39m\u001b[36m \u001b[39m\u001b[32mIn[2]\u001b[39m\u001b[32m, line 21\u001b[39m\n\u001b[32m     19\u001b[39m \u001b[38;5;66;03m# 저장\u001b[39;00m\n\u001b[32m     20\u001b[39m output_path = \u001b[33m\"\u001b[39m\u001b[33m/mnt/data/naver_news_results.json\u001b[39m\u001b[33m\"\u001b[39m\n\u001b[32m---> \u001b[39m\u001b[32m21\u001b[39m \u001b[38;5;28;01mwith\u001b[39;00m \u001b[38;5;28;43mopen\u001b[39;49m\u001b[43m(\u001b[49m\u001b[43moutput_path\u001b[49m\u001b[43m,\u001b[49m\u001b[43m \u001b[49m\u001b[33;43m\"\u001b[39;49m\u001b[33;43mw\u001b[39;49m\u001b[33;43m\"\u001b[39;49m\u001b[43m,\u001b[49m\u001b[43m \u001b[49m\u001b[43mencoding\u001b[49m\u001b[43m=\u001b[49m\u001b[33;43m\"\u001b[39;49m\u001b[33;43mutf-8\u001b[39;49m\u001b[33;43m\"\u001b[39;49m\u001b[43m)\u001b[49m \u001b[38;5;28;01mas\u001b[39;00m f:\n\u001b[32m     22\u001b[39m     json.dump(all_news, f, ensure_ascii=\u001b[38;5;28;01mFalse\u001b[39;00m, indent=\u001b[32m2\u001b[39m)\n\u001b[32m     24\u001b[39m output_path\n",
      "\u001b[36mFile \u001b[39m\u001b[32m~/code/vscode/python3/jupyter/.venv/lib/python3.12/site-packages/IPython/core/interactiveshell.py:326\u001b[39m, in \u001b[36m_modified_open\u001b[39m\u001b[34m(file, *args, **kwargs)\u001b[39m\n\u001b[32m    319\u001b[39m \u001b[38;5;28;01mif\u001b[39;00m file \u001b[38;5;129;01min\u001b[39;00m {\u001b[32m0\u001b[39m, \u001b[32m1\u001b[39m, \u001b[32m2\u001b[39m}:\n\u001b[32m    320\u001b[39m     \u001b[38;5;28;01mraise\u001b[39;00m \u001b[38;5;167;01mValueError\u001b[39;00m(\n\u001b[32m    321\u001b[39m         \u001b[33mf\u001b[39m\u001b[33m\"\u001b[39m\u001b[33mIPython won\u001b[39m\u001b[33m'\u001b[39m\u001b[33mt let you open fd=\u001b[39m\u001b[38;5;132;01m{\u001b[39;00mfile\u001b[38;5;132;01m}\u001b[39;00m\u001b[33m by default \u001b[39m\u001b[33m\"\u001b[39m\n\u001b[32m    322\u001b[39m         \u001b[33m\"\u001b[39m\u001b[33mas it is likely to crash IPython. If you know what you are doing, \u001b[39m\u001b[33m\"\u001b[39m\n\u001b[32m    323\u001b[39m         \u001b[33m\"\u001b[39m\u001b[33myou can use builtins\u001b[39m\u001b[33m'\u001b[39m\u001b[33m open.\u001b[39m\u001b[33m\"\u001b[39m\n\u001b[32m    324\u001b[39m     )\n\u001b[32m--> \u001b[39m\u001b[32m326\u001b[39m \u001b[38;5;28;01mreturn\u001b[39;00m \u001b[43mio_open\u001b[49m\u001b[43m(\u001b[49m\u001b[43mfile\u001b[49m\u001b[43m,\u001b[49m\u001b[43m \u001b[49m\u001b[43m*\u001b[49m\u001b[43margs\u001b[49m\u001b[43m,\u001b[49m\u001b[43m \u001b[49m\u001b[43m*\u001b[49m\u001b[43m*\u001b[49m\u001b[43mkwargs\u001b[49m\u001b[43m)\u001b[49m\n",
      "\u001b[31mFileNotFoundError\u001b[39m: [Errno 2] No such file or directory: '/mnt/data/naver_news_results.json'"
     ]
    }
   ],
   "source": [
    "# 종목 키워드 리스트\n",
    "keywords = [\n",
    "    \"삼성전자\", \"SK하이닉스\", \"네이버\", \"카카오\", \"삼성바이오로직스\",\n",
    "    \"LG화학\", \"현대차\", \"기아\", \"LG에너지솔루션\", \"POSCO홀딩스\",\n",
    "    \"현대모비스\", \"셀트리온\", \"카카오게임즈\", \"크래프톤\", \"HMM\",\n",
    "    \"대한항공\", \"DB하이텍\", \"아모레퍼시픽\", \"롯데쇼핑\", \"CJ ENM\"\n",
    "]\n",
    "\n",
    "# 뉴스 수집 및 저장\n",
    "all_news = []\n",
    "for kw in keywords:\n",
    "    try:\n",
    "        news_items = fetch_naver_news(kw, display=50)\n",
    "        all_news.extend(news_items)\n",
    "        time.sleep(1)  # rate limit 보호\n",
    "    except Exception as e:\n",
    "        print(f\"Error processing {kw}: {e}\")\n",
    "\n",
    "# 저장\n",
    "output_dir = \"./data\"\n",
    "os.makedirs(output_dir, exist_ok=True)\n",
    "with open(os.path.join(output_dir, \"naver_news_results.json\"), \"w\", encoding=\"utf-8\") as f:\n",
    "    json.dump(all_news, f, ensure_ascii=False, indent=2)\n",
    "\n",
    "output_path"
   ]
  }
 ],
 "metadata": {
  "kernelspec": {
   "display_name": ".venv",
   "language": "python",
   "name": "python3"
  },
  "language_info": {
   "codemirror_mode": {
    "name": "ipython",
    "version": 3
   },
   "file_extension": ".py",
   "mimetype": "text/x-python",
   "name": "python",
   "nbconvert_exporter": "python",
   "pygments_lexer": "ipython3",
   "version": "3.12.3"
  }
 },
 "nbformat": 4,
 "nbformat_minor": 5
}
