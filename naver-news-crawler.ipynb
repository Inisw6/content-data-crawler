{
 "cells": [
  {
   "cell_type": "code",
   "execution_count": 1,
   "id": "15a393d5",
   "metadata": {},
   "outputs": [],
   "source": [
    "import os\n",
    "import requests\n",
    "from typing import List, Dict\n",
    "from datetime import datetime\n",
    "from dotenv import load_dotenv\n",
    "import json\n",
    "import time\n",
    "\n",
    "load_dotenv()\n",
    "NAVER_CLIENT_ID = os.getenv(\"NAVER_CLIENT_ID\")\n",
    "NAVER_CLIENT_SECRET = os.getenv(\"NAVER_CLIENT_SECRET\")\n",
    "\n",
    "headers = {\n",
    "    \"X-Naver-Client-Id\": NAVER_CLIENT_ID,\n",
    "    \"X-Naver-Client-Secret\": NAVER_CLIENT_SECRET\n",
    "}\n",
    "\n",
    "def fetch_naver_news(keyword: str, display: int = 50) -> List[Dict]:\n",
    "    url = \"https://openapi.naver.com/v1/search/news.json\"\n",
    "    params = {\n",
    "        \"query\": keyword,\n",
    "        \"display\": display,\n",
    "        \"start\": 1,\n",
    "        \"sort\": \"sim\"\n",
    "    }\n",
    "\n",
    "    response = requests.get(url, headers=headers, params=params)\n",
    "    response.raise_for_status()\n",
    "    items = response.json().get(\"items\", [])\n",
    "\n",
    "    result = []\n",
    "    for item in items:\n",
    "        result.append({\n",
    "            \"type\": \"news\",\n",
    "            \"title\": item.get(\"title\"),\n",
    "            \"url\": item.get(\"link\"),\n",
    "            \"keyword\": keyword,\n",
    "            \"summary\": item.get(\"description\"),\n",
    "            \"image_url\": None,\n",
    "            \"published_at\": None,\n",
    "            \"created_at\": datetime.now().isoformat(),\n",
    "            \"press_name\": None,  # Naver API에는 없음\n",
    "            \"is_opinion\": False\n",
    "        })\n",
    "\n",
    "    return result\n"
   ]
  },
  {
   "cell_type": "code",
   "execution_count": 3,
   "id": "6e037a12",
   "metadata": {},
   "outputs": [
    {
     "data": {
      "text/plain": [
       "'/mnt/data/naver_news_results.json'"
      ]
     },
     "execution_count": 3,
     "metadata": {},
     "output_type": "execute_result"
    }
   ],
   "source": [
    "# 종목 키워드 리스트\n",
    "keywords = [\n",
    "    \"삼성전자\", \"SK하이닉스\", \"네이버\", \"카카오\", \"삼성바이오로직스\",\n",
    "    \"LG화학\", \"현대차\", \"기아\", \"LG에너지솔루션\", \"POSCO홀딩스\",\n",
    "    \"현대모비스\", \"셀트리온\", \"카카오게임즈\", \"크래프톤\", \"HMM\",\n",
    "    \"대한항공\", \"DB하이텍\", \"아모레퍼시픽\", \"롯데쇼핑\", \"CJ ENM\"\n",
    "]\n",
    "\n",
    "# 뉴스 수집 및 저장\n",
    "all_news = []\n",
    "for kw in keywords:\n",
    "    try:\n",
    "        news_items = fetch_naver_news(kw, display=50)\n",
    "        all_news.extend(news_items)\n",
    "        time.sleep(1)  # rate limit 보호\n",
    "    except Exception as e:\n",
    "        print(f\"Error processing {kw}: {e}\")\n",
    "\n",
    "# 저장\n",
    "output_dir = \"./data\"\n",
    "os.makedirs(output_dir, exist_ok=True)\n",
    "with open(os.path.join(output_dir, \"naver_news_results.json\"), \"w\", encoding=\"utf-8\") as f:\n",
    "    json.dump(all_news, f, ensure_ascii=False, indent=2)\n",
    "\n",
    "output_path"
   ]
  }
 ],
 "metadata": {
  "kernelspec": {
   "display_name": ".venv",
   "language": "python",
   "name": "python3"
  },
  "language_info": {
   "codemirror_mode": {
    "name": "ipython",
    "version": 3
   },
   "file_extension": ".py",
   "mimetype": "text/x-python",
   "name": "python",
   "nbconvert_exporter": "python",
   "pygments_lexer": "ipython3",
   "version": "3.12.3"
  }
 },
 "nbformat": 4,
 "nbformat_minor": 5
}
